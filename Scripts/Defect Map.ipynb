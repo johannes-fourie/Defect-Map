{
 "cells": [
  {
   "cell_type": "code",
   "execution_count": null,
   "metadata": {
    "collapsed": true
   },
   "outputs": [],
   "source": [
    "import csv\n",
    "import pandas as pd\n",
    "import numpy as np\n",
    "import matplotlib as mpl\n",
    "import matplotlib.mlab as mlab\n",
    "import matplotlib.pyplot as plt\n",
    "%matplotlib inline\n",
    "mpl.rcParams['figure.figsize'] = (10,10)"
   ]
  },
  {
   "cell_type": "code",
   "execution_count": null,
   "metadata": {
    "collapsed": true
   },
   "outputs": [],
   "source": [
    "#The path to your bug query log file\n",
    "bug_log_file = \"[your path]\\\\TFSBug.log\""
   ]
  },
  {
   "cell_type": "code",
   "execution_count": null,
   "metadata": {
    "collapsed": true,
    "scrolled": true
   },
   "outputs": [],
   "source": [
    "#Load the changes from the bug log file\n",
    "bugs = pd.read_csv(bug_log_file, header=0, delimiter=\";\", encoding=\"utf8\", error_bad_lines=False, dtype={'WorkItemID': np.int64})\n",
    "bugs.insert(0, 'id', range(0, len(bugs)))\n",
    "bugs['ChangeType'] = bugs['ChangeType'].apply(lambda change: change.replace(\" \", \"\").split(\",\"))"
   ]
  },
  {
   "cell_type": "code",
   "execution_count": null,
   "metadata": {
    "collapsed": true
   },
   "outputs": [],
   "source": [
    "#The path to your TFS branch list\n",
    "tfs_branch_list = \"[your path]\\\\TFSBranches.list\""
   ]
  },
  {
   "cell_type": "code",
   "execution_count": null,
   "metadata": {
    "collapsed": true,
    "scrolled": true
   },
   "outputs": [],
   "source": [
    "#Remove the branch path from the file paths\n",
    "branches = pd.read_csv(tfs_branch_list, header=None, delimiter=\";\", encoding=\"utf8\", error_bad_lines=False) \n",
    "branches = branches[0].tolist()\n",
    "\n",
    "def RemoveBranchFromFile(file):\n",
    "    for branch in branches:\n",
    "        file = file.replace(branch, \"\")\n",
    "    return file\n",
    "\n",
    "bugs['File'] = bugs['File'].apply(RemoveBranchFromFile)"
   ]
  },
  {
   "cell_type": "code",
   "execution_count": null,
   "metadata": {
    "collapsed": true,
    "scrolled": true
   },
   "outputs": [],
   "source": [
    "#only look at 'Edit' changes\n",
    "def IsInList( the_list, item ):\n",
    "    return not not [ch for ch in the_list if ch == item]\n",
    "\n",
    "bug_ChangeType_list = bugs['ChangeType'].tolist()\n",
    "files_edits = bugs[[IsInList(ChangeType_list, 'Edit') for ChangeType_list in bug_ChangeType_list ]]"
   ]
  },
  {
   "cell_type": "code",
   "execution_count": null,
   "metadata": {
    "collapsed": true
   },
   "outputs": [],
   "source": [
    "#calculate the number of edits per file\n",
    "files_edits_count = files_edits[['File', 'id']].groupby(['File']).agg(np.size)\n",
    "files_edits_count = files_edits_count.sort_values('id', ascending=[0])\n",
    "files_edits_count = files_edits_count.reset_index()\n",
    "top_change_file_names = files_edits_count.head(30)[\"File\"].tolist()"
   ]
  },
  {
   "cell_type": "code",
   "execution_count": null,
   "metadata": {
    "scrolled": false
   },
   "outputs": [],
   "source": [
    "files_edits_count.plot.hist()"
   ]
  },
  {
   "cell_type": "markdown",
   "metadata": {},
   "source": [
    "A histogram showing the distibution of changes over the files"
   ]
  },
  {
   "cell_type": "code",
   "execution_count": null,
   "metadata": {
    "scrolled": false
   },
   "outputs": [],
   "source": [
    "top_change_file_changes = bugs[bugs['File'].isin(top_change_file_names)]\n",
    "pd.value_counts(top_change_file_changes['File']).plot.bar()"
   ]
  },
  {
   "cell_type": "markdown",
   "metadata": {},
   "source": [
    "Most changed files"
   ]
  }
 ],
 "metadata": {
  "kernelspec": {
   "display_name": "Python 3",
   "language": "python",
   "name": "python3"
  },
  "language_info": {
   "codemirror_mode": {
    "name": "ipython",
    "version": 3
   },
   "file_extension": ".py",
   "mimetype": "text/x-python",
   "name": "python",
   "nbconvert_exporter": "python",
   "pygments_lexer": "ipython3",
   "version": "3.6.0"
  }
 },
 "nbformat": 4,
 "nbformat_minor": 2
}
